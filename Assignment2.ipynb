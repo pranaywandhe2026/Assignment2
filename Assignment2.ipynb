{
 "cells": [
  {
   "cell_type": "code",
   "execution_count": null,
   "id": "9d4f34ef-f31f-4a4b-8e99-8c7bfdb244e9",
   "metadata": {},
   "outputs": [],
   "source": [
    "# Q1"
   ]
  },
  {
   "cell_type": "code",
   "execution_count": null,
   "id": "32baf063-50af-4f9a-ac19-e70a083143db",
   "metadata": {},
   "outputs": [],
   "source": [
    "# we comment code in pyhton with #\n",
    "# single and multi line are types of comment"
   ]
  },
  {
   "cell_type": "code",
   "execution_count": null,
   "id": "7632220c-7e8a-4c77-b4df-93d0202f874c",
   "metadata": {},
   "outputs": [],
   "source": [
    "# Q2"
   ]
  },
  {
   "cell_type": "code",
   "execution_count": null,
   "id": "68d77fe2-d028-48b5-99ef-3496c2a9cae2",
   "metadata": {},
   "outputs": [],
   "source": [
    "# variables is used to store data in python\n",
    "# we can declare and assign values by the following approach\n",
    "# a=10\n",
    "# name=\"ajay\""
   ]
  },
  {
   "cell_type": "code",
   "execution_count": null,
   "id": "99e45291-d891-430e-b3de-496b7a882807",
   "metadata": {},
   "outputs": [],
   "source": [
    "# Q3"
   ]
  },
  {
   "cell_type": "code",
   "execution_count": 1,
   "id": "e53bba90-8fbf-4fd6-bd1e-bcd40cd4b0a2",
   "metadata": {},
   "outputs": [
    {
     "name": "stdout",
     "output_type": "stream",
     "text": [
      "1\n"
     ]
    }
   ],
   "source": [
    "# by using type casting we can convert data type\n",
    "# example\n",
    "a=str(1)\n",
    "print(a)"
   ]
  },
  {
   "cell_type": "code",
   "execution_count": null,
   "id": "d6c1e707-9e08-4575-88d0-f55182d03ecc",
   "metadata": {},
   "outputs": [],
   "source": [
    "# Q4"
   ]
  },
  {
   "cell_type": "code",
   "execution_count": null,
   "id": "2c7a6fba-bfb8-4ea2-951e-dc0fd847e7cb",
   "metadata": {},
   "outputs": [],
   "source": [
    "# we can open command line and type python then automatically python compiler open and we can use it"
   ]
  },
  {
   "cell_type": "code",
   "execution_count": null,
   "id": "15d95c89-679f-4259-bb3d-798cc8814a70",
   "metadata": {},
   "outputs": [],
   "source": [
    "# Q6"
   ]
  },
  {
   "cell_type": "code",
   "execution_count": null,
   "id": "58cc7928-9a26-4d82-aa45-eb80a50dfa42",
   "metadata": {},
   "outputs": [],
   "source": [
    "# a complex number is a combination of real number and imaginary number\n",
    "# example 5+6j"
   ]
  },
  {
   "cell_type": "code",
   "execution_count": null,
   "id": "df9bdd22-a253-455c-b051-d9b61bb029cf",
   "metadata": {},
   "outputs": [],
   "source": [
    "# Q5"
   ]
  },
  {
   "cell_type": "code",
   "execution_count": 2,
   "id": "e0b62757-471c-4b8f-ade0-64a59e64eda0",
   "metadata": {},
   "outputs": [
    {
     "data": {
      "text/plain": [
       "[2, 3]"
      ]
     },
     "execution_count": 2,
     "metadata": {},
     "output_type": "execute_result"
    }
   ],
   "source": [
    "my_list=[1,2,3,4,5]\n",
    "my_list[1:3]"
   ]
  },
  {
   "cell_type": "code",
   "execution_count": null,
   "id": "44506c0b-b01c-4b71-a9b2-e235cc0edcc7",
   "metadata": {},
   "outputs": [],
   "source": [
    "# Q7"
   ]
  },
  {
   "cell_type": "code",
   "execution_count": 3,
   "id": "2e2c2c7a-7a55-48f9-97b8-19b3018cffff",
   "metadata": {},
   "outputs": [],
   "source": [
    "age=25"
   ]
  },
  {
   "cell_type": "code",
   "execution_count": null,
   "id": "22eeafca-e193-4f6e-b3ab-5ca113d7c287",
   "metadata": {},
   "outputs": [],
   "source": [
    "# Q8"
   ]
  },
  {
   "cell_type": "code",
   "execution_count": null,
   "id": "8c05ee8e-2279-4f38-aa8e-11771d35530b",
   "metadata": {},
   "outputs": [],
   "source": [
    "# price=9.99\n",
    "# float data type"
   ]
  },
  {
   "cell_type": "code",
   "execution_count": null,
   "id": "ee83f766-9879-4a8d-842d-e43e808ab39a",
   "metadata": {},
   "outputs": [],
   "source": [
    "# Q9"
   ]
  },
  {
   "cell_type": "code",
   "execution_count": 4,
   "id": "cc2e1f44-d6dd-4f87-9524-9623768f4894",
   "metadata": {},
   "outputs": [
    {
     "name": "stdout",
     "output_type": "stream",
     "text": [
      "pranay wandhe\n"
     ]
    }
   ],
   "source": [
    "name=\"pranay wandhe\"\n",
    "print(name)"
   ]
  },
  {
   "cell_type": "code",
   "execution_count": null,
   "id": "9ee17727-f11e-4c6e-81a3-62e7166c9841",
   "metadata": {},
   "outputs": [],
   "source": [
    "# Q10"
   ]
  },
  {
   "cell_type": "code",
   "execution_count": 6,
   "id": "59693368-53d0-460a-adc7-d04499a24621",
   "metadata": {},
   "outputs": [
    {
     "data": {
      "text/plain": [
       "'world'"
      ]
     },
     "execution_count": 6,
     "metadata": {},
     "output_type": "execute_result"
    }
   ],
   "source": [
    "a=\"Hello world\"\n",
    "a[6:11]"
   ]
  },
  {
   "cell_type": "code",
   "execution_count": null,
   "id": "b5788d70-028d-4102-b15c-3ae482920d26",
   "metadata": {},
   "outputs": [],
   "source": [
    "# Q11"
   ]
  },
  {
   "cell_type": "code",
   "execution_count": null,
   "id": "4bf66fd7-04ce-451f-b8c8-347aa08531d7",
   "metadata": {},
   "outputs": [],
   "source": []
  },
  {
   "cell_type": "code",
   "execution_count": null,
   "id": "0dcaf9a2-7c78-4ed0-bc34-d36cf7008c1d",
   "metadata": {},
   "outputs": [],
   "source": []
  }
 ],
 "metadata": {
  "kernelspec": {
   "display_name": "Python 3 (ipykernel)",
   "language": "python",
   "name": "python3"
  },
  "language_info": {
   "codemirror_mode": {
    "name": "ipython",
    "version": 3
   },
   "file_extension": ".py",
   "mimetype": "text/x-python",
   "name": "python",
   "nbconvert_exporter": "python",
   "pygments_lexer": "ipython3",
   "version": "3.10.8"
  }
 },
 "nbformat": 4,
 "nbformat_minor": 5
}
